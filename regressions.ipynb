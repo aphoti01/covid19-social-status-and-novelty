{
 "cells": [
  {
   "cell_type": "markdown",
   "id": "suburban-democracy",
   "metadata": {},
   "source": [
    "## Imports"
   ]
  },
  {
   "cell_type": "code",
   "execution_count": null,
   "id": "imported-tyler",
   "metadata": {
    "tags": []
   },
   "outputs": [],
   "source": [
    "from sklearn import model_selection, preprocessing, linear_model, naive_bayes, metrics, svm\n",
    "from sklearn import decomposition, ensemble\n",
    "\n",
    "import pandas as pd\n",
    "import numpy as np\n",
    "\n",
    "import re, random\n",
    "\n",
    "from datetime import datetime, timedelta\n",
    "from scipy import stats\n",
    "\n",
    "from dateutil.parser import parse \n",
    "import matplotlib as mpl\n",
    "import matplotlib.pyplot as plt\n",
    "import statsmodels.api as sm"
   ]
  },
  {
   "cell_type": "markdown",
   "id": "intimate-anatomy",
   "metadata": {},
   "source": [
    "## Read data"
   ]
  },
  {
   "cell_type": "code",
   "execution_count": null,
   "id": "pleased-million",
   "metadata": {},
   "outputs": [],
   "source": [
    "data = pd.read_csv('Data/dataset_for_regressions_sample.csv', index_col=0)"
   ]
  },
  {
   "cell_type": "code",
   "execution_count": null,
   "id": "organizational-dividend",
   "metadata": {},
   "outputs": [],
   "source": [
    "data.head()"
   ]
  },
  {
   "cell_type": "markdown",
   "id": "eleven-hormone",
   "metadata": {},
   "source": [
    "## Regressions"
   ]
  },
  {
   "cell_type": "code",
   "execution_count": null,
   "id": "internal-placement",
   "metadata": {},
   "outputs": [],
   "source": [
    "dimensions = ['Politics', 'Health', 'Personal', 'Travel', 'Economic']\n",
    "controls = ['CharacterCount', 'PunctuationCount', 'UpperCaseWordCount']\n",
    "author = ['HealthExpert', 'Influencer']"
   ]
  },
  {
   "cell_type": "code",
   "execution_count": null,
   "id": "cordless-second",
   "metadata": {},
   "outputs": [],
   "source": [
    "def get_regressions(novelty):\n",
    "    reg1 = f'RetweetCount ~ {\" + \".join(dimensions + controls)}'\n",
    "    reg2 = f'RetweetCount ~ {\" + \".join(dimensions + author + controls)} + {\" + \".join([f\"{i}:HealthExpert\" for i in dimensions])} + {\" + \".join([f\"{i}:Influencer\" for i in dimensions])}'\n",
    "    reg3 = f'RetweetCount ~ {\" + \".join([novelty] + controls)} + {\" + \".join([f\"{i}:{novelty}\" for i in dimensions])} - 1'\n",
    "    reg4 = f'RetweetCount ~ {\" + \".join(author + [novelty, f\"Influencer:{novelty}\", f\"HealthExpert:{novelty}\"] + controls)} - 1'\n",
    "    return reg1, reg2, reg3, reg4\n",
    "\n",
    "novelty = 'Novelty'\n",
    "reg1, reg2, reg3, reg4 = get_regressions(novelty)\n",
    "\n",
    "regressions = {\n",
    "    'reg1': {\n",
    "        'number':'1',\n",
    "        'equation': reg1,\n",
    "        'equation2': reg1.replace('RetweetCount', 'FavoriteCount')\n",
    "    },\n",
    "    'reg2': {\n",
    "        'number':'2',\n",
    "        'equation': reg2,\n",
    "        'equation2': reg2.replace('RetweetCount', 'FavoriteCount')\n",
    "    },\n",
    "    'reg3': {\n",
    "        'number':'3',\n",
    "        'equation': reg3,\n",
    "        'equation2': reg3.replace('RetweetCount', 'FavoriteCount')\n",
    "    },\n",
    "    'reg4': {\n",
    "        'number':'4',\n",
    "        'equation': reg4,\n",
    "        'equation2': reg4.replace('RetweetCount', 'FavoriteCount')\n",
    "    }\n",
    "}"
   ]
  },
  {
   "cell_type": "code",
   "execution_count": null,
   "id": "continent-reform",
   "metadata": {},
   "outputs": [],
   "source": [
    "novelty = 'Novelty'\n",
    "response = 'RetweetCount'\n",
    "retweet_coefs = pd.DataFrame(columns = ['index', 'lower', 'coef', 'upper', 'Regression', 'Novelty', 'y'])"
   ]
  },
  {
   "cell_type": "code",
   "execution_count": null,
   "id": "chief-harmony",
   "metadata": {},
   "outputs": [],
   "source": [
    "regression = 'reg1'\n",
    "\n",
    "model = sm.GLM.from_formula(regressions[regression]['equation'], data=data, family=sm.families.Poisson()).fit()\n",
    "\n",
    "model.summary()"
   ]
  },
  {
   "cell_type": "code",
   "execution_count": null,
   "id": "extended-chinese",
   "metadata": {},
   "outputs": [],
   "source": [
    "regression = 'reg2'\n",
    "\n",
    "model = sm.GLM.from_formula(regressions[regression]['equation'], data=data, family=sm.families.Poisson()).fit()\n",
    "\n",
    "model.summary()"
   ]
  },
  {
   "cell_type": "code",
   "execution_count": null,
   "id": "eight-handling",
   "metadata": {},
   "outputs": [],
   "source": [
    "regression = 'reg3'\n",
    "\n",
    "model = sm.GLM.from_formula(regressions[regression]['equation'], data=data, family=sm.families.Poisson()).fit()\n",
    "\n",
    "model.summary()"
   ]
  },
  {
   "cell_type": "code",
   "execution_count": null,
   "id": "associate-opening",
   "metadata": {},
   "outputs": [],
   "source": [
    "regression = 'reg4'\n",
    "\n",
    "model = sm.GLM.from_formula(regressions[regression]['equation'], data=data, family=sm.families.Poisson()).fit()\n",
    "\n",
    "model.summary()"
   ]
  },
  {
   "cell_type": "markdown",
   "id": "clean-green",
   "metadata": {},
   "source": [
    "### 3-day Novelty Regressions"
   ]
  },
  {
   "cell_type": "code",
   "execution_count": null,
   "id": "faced-madrid",
   "metadata": {},
   "outputs": [],
   "source": [
    "novelty = 'Novelty_3day'\n",
    "retweet_coefs = pd.DataFrame(columns = ['index', 'lower', 'coef', 'upper', 'Regression', 'Novelty', 'y'])"
   ]
  },
  {
   "cell_type": "code",
   "execution_count": null,
   "id": "handled-saskatchewan",
   "metadata": {},
   "outputs": [],
   "source": [
    "regression = 'reg3'\n",
    "\n",
    "equation = regressions[regression]['equation'].replace('Novelty', novelty)\n",
    "\n",
    "model = sm.GLM.from_formula(equation, data=data, family=sm.families.Poisson()).fit()\n",
    "\n",
    "model.summary()"
   ]
  },
  {
   "cell_type": "code",
   "execution_count": null,
   "id": "placed-television",
   "metadata": {},
   "outputs": [],
   "source": [
    "regression = 'reg4'\n",
    "\n",
    "equation = regressions[regression]['equation'].replace('Novelty', novelty)\n",
    "\n",
    "model = sm.GLM.from_formula(equation, data=data, family=sm.families.Poisson()).fit()\n",
    "\n",
    "model.summary()"
   ]
  },
  {
   "cell_type": "markdown",
   "id": "former-corruption",
   "metadata": {},
   "source": [
    "### 7-day Novelty Regressions"
   ]
  },
  {
   "cell_type": "code",
   "execution_count": null,
   "id": "through-ground",
   "metadata": {},
   "outputs": [],
   "source": [
    "novelty = 'Novelty_7day'\n",
    "retweet_coefs = pd.DataFrame(columns = ['index', 'lower', 'coef', 'upper', 'Regression', 'Novelty', 'y'])"
   ]
  },
  {
   "cell_type": "code",
   "execution_count": null,
   "id": "mobile-generic",
   "metadata": {},
   "outputs": [],
   "source": [
    "regression = 'reg3'\n",
    "\n",
    "equation = regressions[regression]['equation'].replace('Novelty', novelty)\n",
    "\n",
    "model = sm.GLM.from_formula(equation, data=data, family=sm.families.Poisson()).fit()\n",
    "\n",
    "model.summary()"
   ]
  },
  {
   "cell_type": "code",
   "execution_count": null,
   "id": "opening-indication",
   "metadata": {},
   "outputs": [],
   "source": [
    "regression = 'reg4'\n",
    "\n",
    "equation = regressions[regression]['equation'].replace('Novelty', novelty)\n",
    "\n",
    "model = sm.GLM.from_formula(equation, data=data, family=sm.families.Poisson()).fit()\n",
    "\n",
    "model.summary()"
   ]
  },
  {
   "cell_type": "markdown",
   "id": "extreme-baltimore",
   "metadata": {},
   "source": [
    "## Regressions with RetweetCount as binary"
   ]
  },
  {
   "cell_type": "code",
   "execution_count": null,
   "id": "improving-superintendent",
   "metadata": {},
   "outputs": [],
   "source": [
    "data['is_retweeted'] = [1 if i>0 else 0 for i in data.RetweetCount]"
   ]
  },
  {
   "cell_type": "code",
   "execution_count": null,
   "id": "after-freedom",
   "metadata": {},
   "outputs": [],
   "source": [
    "novelty = 'Novelty'\n",
    "response = 'is_retweeted'\n",
    "for regression in regressions:\n",
    "    model = sm.GLM.from_formula(regressions[regression]['equation'].replace('RetweetCount', 'is_retweeted'), data=data, family=sm.families.Poisson()).fit()\n",
    "    print(regression)\n",
    "    print(model.summary())"
   ]
  },
  {
   "cell_type": "markdown",
   "id": "eight-genesis",
   "metadata": {},
   "source": [
    "## Quadratic relationship"
   ]
  },
  {
   "cell_type": "markdown",
   "id": "innovative-philippines",
   "metadata": {},
   "source": [
    "## Regressions\n",
    "* RetweetCount ~ Novelty\n",
    "* RetweetCount ~ Novelty2\n",
    "* RetweetCount ~ Novelty + Novelty2"
   ]
  },
  {
   "cell_type": "code",
   "execution_count": null,
   "id": "challenging-forestry",
   "metadata": {},
   "outputs": [],
   "source": [
    "scaler = preprocessing.MinMaxScaler(feature_range=[-1,1])\n",
    "data['Novelty'] = scaler.fit_transform(data[['Novelty']])"
   ]
  },
  {
   "cell_type": "code",
   "execution_count": null,
   "id": "recreational-superintendent",
   "metadata": {},
   "outputs": [],
   "source": [
    "data['Novelty2'] = data.Novelty*data.Novelty"
   ]
  },
  {
   "cell_type": "code",
   "execution_count": null,
   "id": "effective-yield",
   "metadata": {},
   "outputs": [],
   "source": [
    "model = sm.GLM.from_formula('RetweetCount ~ Novelty', data=data, family=sm.families.Poisson()).fit()\n",
    "model.summary()"
   ]
  },
  {
   "cell_type": "code",
   "execution_count": null,
   "id": "combined-entertainment",
   "metadata": {},
   "outputs": [],
   "source": [
    "model = sm.GLM.from_formula('RetweetCount ~ Novelty2', data=data, family=sm.families.Poisson()).fit()\n",
    "model.summary()"
   ]
  },
  {
   "cell_type": "code",
   "execution_count": null,
   "id": "greenhouse-quantum",
   "metadata": {},
   "outputs": [],
   "source": [
    "model = sm.GLM.from_formula('RetweetCount ~ Novelty + Novelty2', data=data, family=sm.families.Poisson()).fit()\n",
    "model.summary()"
   ]
  },
  {
   "cell_type": "markdown",
   "id": "accomplished-afghanistan",
   "metadata": {},
   "source": [
    "## Regressions with categorical Novelty"
   ]
  },
  {
   "cell_type": "code",
   "execution_count": null,
   "id": "sublime-token",
   "metadata": {},
   "outputs": [],
   "source": [
    "data = data.dropna()"
   ]
  },
  {
   "cell_type": "code",
   "execution_count": null,
   "id": "delayed-polish",
   "metadata": {},
   "outputs": [],
   "source": [
    "data = data[(data.Novelty>=np.quantile(data.Novelty, 0.01))&(data.Novelty<=np.quantile(data.Novelty, 0.99))]"
   ]
  },
  {
   "cell_type": "code",
   "execution_count": null,
   "id": "existing-shark",
   "metadata": {},
   "outputs": [],
   "source": [
    "minmax = preprocessing.MinMaxScaler()\n",
    "\n",
    "data['Novelty'] = minmax.fit_transform(data[['Novelty']])\n",
    "\n",
    "data['Novelty_cut'] = pd.cut(data.Novelty, bins = 5, labels = ['Very low', 'Low', 'Average', 'High', 'Very high'])"
   ]
  },
  {
   "cell_type": "code",
   "execution_count": null,
   "id": "synthetic-peace",
   "metadata": {},
   "outputs": [],
   "source": [
    "data.groupby('Novelty_cut')[['RetweetCount']].describe()"
   ]
  },
  {
   "cell_type": "code",
   "execution_count": null,
   "id": "freelance-monitoring",
   "metadata": {},
   "outputs": [],
   "source": [
    "def get_regressions(novelty):\n",
    "    reg1 = f'RetweetCount ~ {\" + \".join(dimensions + controls)}'\n",
    "    reg2 = f'RetweetCount ~ {\" + \".join(dimensions + author + controls)} + {\" + \".join([f\"{i}:HealthExpert\" for i in dimensions])} + {\" + \".join([f\"{i}:Influencer\" for i in dimensions])}'\n",
    "    reg3 = f'RetweetCount ~ {\" + \".join([novelty] + controls)} + {\" + \".join([f\"{i}:{novelty}\" for i in dimensions])} - 1'\n",
    "    reg4 = f'RetweetCount ~ {\" + \".join(author + [novelty, f\"Influencer:{novelty}\", f\"HealthExpert:{novelty}\"] + controls)} - 1'\n",
    "    return reg1, reg2, reg3, reg4\n",
    "\n",
    "novelty = 'Novelty_cut'\n",
    "reg1, reg2, reg3, reg4 = get_regressions(novelty)\n",
    "\n",
    "regressions = {\n",
    "    'reg1': {\n",
    "        'number':'1',\n",
    "        'equation': reg1,\n",
    "        'equation2': reg1.replace('RetweetCount', 'FavoriteCount')\n",
    "    },\n",
    "    'reg2': {\n",
    "        'number':'2',\n",
    "        'equation': reg2,\n",
    "        'equation2': reg2.replace('RetweetCount', 'FavoriteCount')\n",
    "    },\n",
    "    'reg3': {\n",
    "        'number':'3',\n",
    "        'equation': reg3,\n",
    "        'equation2': reg3.replace('RetweetCount', 'FavoriteCount')\n",
    "    },\n",
    "    'reg4': {\n",
    "        'number':'4',\n",
    "        'equation': reg4,\n",
    "        'equation2': reg4.replace('RetweetCount', 'FavoriteCount')\n",
    "    }\n",
    "}"
   ]
  },
  {
   "cell_type": "code",
   "execution_count": null,
   "id": "rural-stick",
   "metadata": {},
   "outputs": [],
   "source": [
    "novelty = 'Novelty_cut'\n",
    "response = 'RetweetCount'\n",
    "for regression in ['reg3','reg4']:\n",
    "    model = sm.GLM.from_formula(regressions[regression]['equation'], data=data, family=sm.families.Poisson()).fit()\n",
    "    print(model.summary())"
   ]
  },
  {
   "cell_type": "code",
   "execution_count": null,
   "id": "chief-ottawa",
   "metadata": {},
   "outputs": [],
   "source": [
    "novelty = 'Novelty_cut'\n",
    "response = 'is_retweeted'\n",
    "for regression in ['reg3','reg4']:\n",
    "    model = sm.GLM.from_formula(regressions[regression]['equation'].replace('RetweetCount', response), data=data, family=sm.families.Poisson()).fit()\n",
    "    print(model.summary())"
   ]
  }
 ],
 "metadata": {
  "kernelspec": {
   "display_name": "Python 3",
   "language": "python",
   "name": "python3"
  },
  "language_info": {
   "codemirror_mode": {
    "name": "ipython",
    "version": 3
   },
   "file_extension": ".py",
   "mimetype": "text/x-python",
   "name": "python",
   "nbconvert_exporter": "python",
   "pygments_lexer": "ipython3",
   "version": "3.9.1"
  }
 },
 "nbformat": 4,
 "nbformat_minor": 5
}
